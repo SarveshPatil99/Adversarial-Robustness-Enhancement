{
  "nbformat": 4,
  "nbformat_minor": 0,
  "metadata": {
    "colab": {
      "provenance": [],
      "authorship_tag": "ABX9TyPkGQZXI1dVah5JHD6c7l1S",
      "include_colab_link": true
    },
    "kernelspec": {
      "name": "python3",
      "display_name": "Python 3"
    },
    "language_info": {
      "name": "python"
    }
  },
  "cells": [
    {
      "cell_type": "markdown",
      "metadata": {
        "id": "view-in-github",
        "colab_type": "text"
      },
      "source": [
        "<a href=\"https://colab.research.google.com/github/SarveshPatil99/Adversarial-Robustness-Enhancement/blob/main/noise_maker.ipynb\" target=\"_parent\"><img src=\"https://colab.research.google.com/assets/colab-badge.svg\" alt=\"Open In Colab\"/></a>"
      ]
    },
    {
      "cell_type": "code",
      "source": [
        "import numpy as np\n",
        "import cv2\n",
        "from matplotlib import pyplot as plt"
      ],
      "metadata": {
        "id": "5WMWpmGT1MBJ"
      },
      "execution_count": 1,
      "outputs": []
    },
    {
      "cell_type": "code",
      "execution_count": 78,
      "metadata": {
        "id": "9hgr4QTh0xTr"
      },
      "outputs": [],
      "source": [
        "noise_params = {\n",
        "  'gaussian': {'stddev': 0.2},\n",
        "  'saltpepper': {'pepper_thresh': 0.025,'salt_thresh': 0.025},\n",
        "  'speckle': {'stddev': 0.2},\n",
        "  'uniform': {'thresh': 0.2}\n",
        "}"
      ]
    },
    {
      "cell_type": "code",
      "source": [
        "def add_gaussian_noise(image):\n",
        "  image = image + np.random.normal(0,noise_params['gaussian']['stddev'],image.shape)\n",
        "  image = np.clip(image, 0,1)\n",
        "  return image\n",
        "\n",
        "def add_saltpepper_noise(image):\n",
        "  pepper_thresh = noise_params['saltpepper']['pepper_thresh']\n",
        "  salt_thresh = noise_params['saltpepper']['salt_thresh']\n",
        "\n",
        "  noise_map = np.random.uniform(0,1,(256,256))\n",
        "  pepper_map = 1*(noise_map < pepper_thresh)\n",
        "  pepper_map = np.stack([pepper_map]*3,-1)\n",
        "  salt_map = 1*(noise_map > (1-salt_thresh))\n",
        "  salt_map = np.stack([salt_map]*3,-1)\n",
        "\n",
        "  image = image - 2*pepper_map\n",
        "  image = image + 2*salt_map\n",
        "  image = np.clip(image, 0, 1)\n",
        "\n",
        "  return image\n",
        "\n",
        "def add_speckle_noise(image):\n",
        "  image = image + image*np.random.normal(0,noise_params['speckle']['stddev'],image.shape)\n",
        "  image = np.clip(image, 0,1)\n",
        "  return image\n",
        "\n",
        "def add_uniform_noise(image):\n",
        "  image = image + np.random.uniform(-noise_params['uniform']['thresh'],noise_params['uniform']['thresh'],image.shape)\n",
        "  image = np.clip(image, 0,1)\n",
        "  return image"
      ],
      "metadata": {
        "id": "2e1QL6ir1CVm"
      },
      "execution_count": 79,
      "outputs": []
    },
    {
      "cell_type": "code",
      "source": [
        "for noise_func in [add_gaussian_noise, add_saltpepper_noise, add_speckle_noise, add_uniform_noise]:\n",
        "  plt.figure(figsize=(9,3.5))\n",
        "  image = cv2.imread('09000.png')/255\n",
        "  noisy_image = noise_func(image)\n",
        "  img_list = [image, noisy_image, abs(noisy_image-image)]\n",
        "  title_list = ['Image', 'Noisy Image', 'Noisy Image - Image']\n",
        "  for i, img in enumerate(img_list):\n",
        "    plt.subplot(1,3,i + 1)\n",
        "    plt.imshow(img[:,:,::-1])\n",
        "    plt.axis('off')\n",
        "    plt.title(title_list[i])\n",
        "  plt.tight_layout()\n",
        "  plt.savefig(f\"{noise_func.__name__.split('_')[1]}.png\", bbox_inches='tight')"
      ],
      "metadata": {
        "id": "xUzvQ_bo7g4p"
      },
      "execution_count": null,
      "outputs": []
    },
    {
      "cell_type": "code",
      "source": [],
      "metadata": {
        "id": "qR2GmZgG9xhB"
      },
      "execution_count": 80,
      "outputs": []
    }
  ]
}